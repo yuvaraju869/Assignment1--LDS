{
 "cells": [
  {
   "cell_type": "code",
   "execution_count": null,
   "id": "77c4bfbe",
   "metadata": {},
   "outputs": [],
   "source": [
    "# 1.Delete the elements in an linked list whose sum is equal to zero"
   ]
  },
  {
   "cell_type": "code",
   "execution_count": 1,
   "id": "6d63f616",
   "metadata": {},
   "outputs": [
    {
     "name": "stdout",
     "output_type": "stream",
     "text": [
      "Original Linked List:\n",
      "6 -> -6 -> 8 -> 4 -> -12 -> 10 -> 2 -> 3 -> None\n",
      "\n",
      "Linked List after Deleting Zero Sum Sublists:\n",
      "10 -> 2 -> 3 -> None\n"
     ]
    }
   ],
   "source": [
    "class Node:\n",
    "    def __init__(self, data):\n",
    "        self.data = data\n",
    "        self.next = None\n",
    "\n",
    "class LinkedList:\n",
    "    def __init__(self):\n",
    "        self.head = None\n",
    "\n",
    "    def append(self, data):\n",
    "        new_node = Node(data)\n",
    "        if self.head is None:\n",
    "            self.head = new_node\n",
    "            return\n",
    "        current = self.head\n",
    "        while current.next:\n",
    "            current = current.next\n",
    "        current.next = new_node\n",
    "\n",
    "    def delete_zero_sum_sublists(self):\n",
    "        dummy = Node(0)\n",
    "        dummy.next = self.head\n",
    "        prefix_sum = 0\n",
    "        prefix_sum_map = {}\n",
    "\n",
    "        current = dummy\n",
    "        while current:\n",
    "            prefix_sum += current.data\n",
    "            if prefix_sum in prefix_sum_map:\n",
    "                prev = prefix_sum_map[prefix_sum].next\n",
    "                tmp_sum = prefix_sum + prev.data\n",
    "                while prev != current:\n",
    "                    prefix_sum_map.pop(tmp_sum)\n",
    "                    prev = prev.next\n",
    "                    tmp_sum += prev.data\n",
    "                prefix_sum_map[prefix_sum].next = current.next\n",
    "            else:\n",
    "                prefix_sum_map[prefix_sum] = current\n",
    "            current = current.next\n",
    "        \n",
    "        self.head = dummy.next\n",
    "\n",
    "    def display(self):\n",
    "        current = self.head\n",
    "        while current:\n",
    "            print(current.data, end=\" -> \")\n",
    "            current = current.next\n",
    "        print(\"None\")\n",
    "\n",
    "# Create a linked list\n",
    "linked_list = LinkedList()\n",
    "linked_list.append(6)\n",
    "linked_list.append(-6)\n",
    "linked_list.append(8)\n",
    "linked_list.append(4)\n",
    "linked_list.append(-12)\n",
    "linked_list.append(10)\n",
    "linked_list.append(2)\n",
    "linked_list.append(3)\n",
    "\n",
    "print(\"Original Linked List:\")\n",
    "linked_list.display()\n",
    "\n",
    "linked_list.delete_zero_sum_sublists()\n",
    "\n",
    "print(\"\\nLinked List after Deleting Zero Sum Sublists:\")\n",
    "linked_list.display()"
   ]
  },
  {
   "cell_type": "code",
   "execution_count": null,
   "id": "b58d18c8",
   "metadata": {},
   "outputs": [],
   "source": [
    "# 2.Reverse a linked list in groups of given size"
   ]
  },
  {
   "cell_type": "code",
   "execution_count": 2,
   "id": "c7cc1dc3",
   "metadata": {},
   "outputs": [
    {
     "name": "stdout",
     "output_type": "stream",
     "text": [
      "Original Linked List:\n",
      "1 -> 2 -> 3 -> 4 -> 5 -> 6 -> 7 -> 8 -> None\n",
      "\n",
      "Linked List after Reversing in Groups of 3\n",
      "3 -> 2 -> 1 -> 6 -> 5 -> 4 -> 7 -> 8 -> None\n"
     ]
    }
   ],
   "source": [
    "class Node:\n",
    "    def __init__(self, data):\n",
    "        self.data = data\n",
    "        self.next = None\n",
    "\n",
    "class LinkedList:\n",
    "    def __init__(self):\n",
    "        self.head = None\n",
    "\n",
    "    def append(self, data):\n",
    "        new_node = Node(data)\n",
    "        if self.head is None:\n",
    "            self.head = new_node\n",
    "            return\n",
    "        current = self.head\n",
    "        while current.next:\n",
    "            current = current.next\n",
    "        current.next = new_node\n",
    "\n",
    "    def reverse_in_groups(self, head, k):\n",
    "        prev = None\n",
    "        current = head\n",
    "        next_node = None\n",
    "        count = 0\n",
    "\n",
    "        # Count the number of nodes in this group\n",
    "        temp = head\n",
    "        while temp and count < k:\n",
    "            temp = temp.next\n",
    "            count += 1\n",
    "\n",
    "        # If there are at least k nodes, reverse them\n",
    "        if count == k:\n",
    "            while current and count > 0:\n",
    "                next_node = current.next\n",
    "                current.next = prev\n",
    "                prev = current\n",
    "                current = next_node\n",
    "                count -= 1\n",
    "\n",
    "            if next_node:\n",
    "                head.next = self.reverse_in_groups(next_node, k)\n",
    "\n",
    "            return prev\n",
    "        else:\n",
    "            return head\n",
    "\n",
    "    def reverse_groups(self, k):\n",
    "        self.head = self.reverse_in_groups(self.head, k)\n",
    "\n",
    "    def display(self):\n",
    "        current = self.head\n",
    "        while current:\n",
    "            print(current.data, end=\" -> \")\n",
    "            current = current.next\n",
    "        print(\"None\")\n",
    "\n",
    "# Create a linked list\n",
    "linked_list = LinkedList()\n",
    "linked_list.append(1)\n",
    "linked_list.append(2)\n",
    "linked_list.append(3)\n",
    "linked_list.append(4)\n",
    "linked_list.append(5)\n",
    "linked_list.append(6)\n",
    "linked_list.append(7)\n",
    "linked_list.append(8)\n",
    "\n",
    "print(\"Original Linked List:\")\n",
    "linked_list.display()\n",
    "\n",
    "group_size = 3\n",
    "linked_list.reverse_groups(group_size)\n",
    "\n",
    "print(\"\\nLinked List after Reversing in Groups of\", group_size)\n",
    "linked_list.display()"
   ]
  },
  {
   "cell_type": "code",
   "execution_count": null,
   "id": "22680d11",
   "metadata": {},
   "outputs": [],
   "source": [
    "# 3. Merge a linked list into another linked list at alternate positions."
   ]
  },
  {
   "cell_type": "code",
   "execution_count": 3,
   "id": "c8c80101",
   "metadata": {},
   "outputs": [
    {
     "name": "stdout",
     "output_type": "stream",
     "text": [
      "First Linked List:\n",
      "1 -> 3 -> 5 -> 7 -> None\n",
      "\n",
      "Second Linked List:\n",
      "2 -> 4 -> 6 -> 8 -> None\n",
      "\n",
      "Linked List after Merging Alternately:\n",
      "1 -> 2 -> 3 -> 4 -> 5 -> 6 -> 7 -> 8 -> None\n"
     ]
    }
   ],
   "source": [
    "class Node:\n",
    "    def __init__(self, data):\n",
    "        self.data = data\n",
    "        self.next = None\n",
    "\n",
    "class LinkedList:\n",
    "    def __init__(self):\n",
    "        self.head = None\n",
    "\n",
    "    def append(self, data):\n",
    "        new_node = Node(data)\n",
    "        if self.head is None:\n",
    "            self.head = new_node\n",
    "            return\n",
    "        current = self.head\n",
    "        while current.next:\n",
    "            current = current.next\n",
    "        current.next = new_node\n",
    "\n",
    "    def merge_alternate(self, other_list):\n",
    "        current1 = self.head\n",
    "        current2 = other_list.head\n",
    "\n",
    "        while current1 and current2:\n",
    "            temp1 = current1.next\n",
    "            temp2 = current2.next\n",
    "\n",
    "            current1.next = current2\n",
    "            current2.next = temp1\n",
    "\n",
    "            current1 = temp1\n",
    "            current2 = temp2\n",
    "\n",
    "        other_list.head = current2\n",
    "\n",
    "    def display(self):\n",
    "        current = self.head\n",
    "        while current:\n",
    "            print(current.data, end=\" -> \")\n",
    "            current = current.next\n",
    "        print(\"None\")\n",
    "\n",
    "# Create the first linked list\n",
    "list1 = LinkedList()\n",
    "list1.append(1)\n",
    "list1.append(3)\n",
    "list1.append(5)\n",
    "list1.append(7)\n",
    "\n",
    "# Create the second linked list\n",
    "list2 = LinkedList()\n",
    "list2.append(2)\n",
    "list2.append(4)\n",
    "list2.append(6)\n",
    "list2.append(8)\n",
    "\n",
    "print(\"First Linked List:\")\n",
    "list1.display()\n",
    "\n",
    "print(\"\\nSecond Linked List:\")\n",
    "list2.display()\n",
    "\n",
    "list1.merge_alternate(list2)\n",
    "\n",
    "print(\"\\nLinked List after Merging Alternately:\")\n",
    "list1.display()"
   ]
  },
  {
   "cell_type": "code",
   "execution_count": null,
   "id": "2af8ad5e",
   "metadata": {},
   "outputs": [],
   "source": [
    "# 4.In an array, Count Pairs with given sum"
   ]
  },
  {
   "cell_type": "code",
   "execution_count": 5,
   "id": "1a011f41",
   "metadata": {},
   "outputs": [
    {
     "name": "stdout",
     "output_type": "stream",
     "text": [
      "Number of pairs with sum 6 is: 3\n"
     ]
    }
   ],
   "source": [
    "def count_pairs_with_sum(arr, target_sum):\n",
    "    num_frequency = {}\n",
    "    count = 0\n",
    "\n",
    "    for num in arr:\n",
    "        complement = target_sum - num\n",
    "        if complement in num_frequency:\n",
    "            count += num_frequency[complement]\n",
    "        if num in num_frequency:\n",
    "            num_frequency[num] += 1\n",
    "        else:\n",
    "            num_frequency[num] = 1\n",
    "\n",
    "    return count\n",
    "\n",
    "# Example array and target sum\n",
    "array = [1, 5, 7, -1, 5]\n",
    "target_sum = 6\n",
    "\n",
    "result = count_pairs_with_sum(array, target_sum)\n",
    "print(\"Number of pairs with sum\", target_sum, \"is:\", result)"
   ]
  },
  {
   "cell_type": "code",
   "execution_count": null,
   "id": "f2459043",
   "metadata": {},
   "outputs": [],
   "source": [
    "# 5.Find duplicates in an array"
   ]
  },
  {
   "cell_type": "code",
   "execution_count": 7,
   "id": "7770a627",
   "metadata": {},
   "outputs": [
    {
     "name": "stdout",
     "output_type": "stream",
     "text": [
      "Duplicate elements in the array: [2, 7, 1]\n"
     ]
    }
   ],
   "source": [
    "def find_duplicates(arr):\n",
    "    num_frequency = {}\n",
    "    duplicates = []\n",
    "\n",
    "    for num in arr:\n",
    "        if num in num_frequency:\n",
    "            num_frequency[num] += 1\n",
    "        else:\n",
    "            num_frequency[num] = 1\n",
    "\n",
    "    for num, frequency in num_frequency.items():\n",
    "        if frequency > 1:\n",
    "            duplicates.append(num)\n",
    "\n",
    "    return duplicates\n",
    "\n",
    "# Example array\n",
    "array = [4, 3, 2, 7, 8, 2, 7, 1, 1]\n",
    "\n",
    "duplicate_elements = find_duplicates(array)\n",
    "print(\"Duplicate elements in the array:\", duplicate_elements)"
   ]
  },
  {
   "cell_type": "code",
   "execution_count": null,
   "id": "eda85a81",
   "metadata": {},
   "outputs": [],
   "source": [
    "# 6.Find the Kth largest and Kth smallest number in an array"
   ]
  },
  {
   "cell_type": "code",
   "execution_count": 8,
   "id": "1d5eec23",
   "metadata": {},
   "outputs": [
    {
     "name": "stdout",
     "output_type": "stream",
     "text": [
      "3th largest element: 6\n",
      "3th smallest element: 3\n"
     ]
    }
   ],
   "source": [
    "def partition(arr, low, high):\n",
    "    pivot = arr[high]\n",
    "    i = low - 1\n",
    "\n",
    "    for j in range(low, high):\n",
    "        if arr[j] <= pivot:\n",
    "            i += 1\n",
    "            arr[i], arr[j] = arr[j], arr[i]\n",
    "\n",
    "    arr[i + 1], arr[high] = arr[high], arr[i + 1]\n",
    "    return i + 1\n",
    "\n",
    "def quick_select(arr, low, high, k):\n",
    "    if low <= high:\n",
    "        pivot_index = partition(arr, low, high)\n",
    "\n",
    "        if pivot_index == k:\n",
    "            return arr[pivot_index]\n",
    "        elif pivot_index > k:\n",
    "            return quick_select(arr, low, pivot_index - 1, k)\n",
    "        else:\n",
    "            return quick_select(arr, pivot_index + 1, high, k)\n",
    "\n",
    "def find_kth_largest(arr, k):\n",
    "    if k > 0 and k <= len(arr):\n",
    "        return quick_select(arr, 0, len(arr) - 1, len(arr) - k)\n",
    "    else:\n",
    "        return None\n",
    "\n",
    "def find_kth_smallest(arr, k):\n",
    "    if k > 0 and k <= len(arr):\n",
    "        return quick_select(arr, 0, len(arr) - 1, k - 1)\n",
    "    else:\n",
    "        return None\n",
    "\n",
    "# Example array\n",
    "array = [3, 1, 6, 4, 8, 2, 7, 5]\n",
    "\n",
    "k = 3\n",
    "kth_largest = find_kth_largest(array, k)\n",
    "kth_smallest = find_kth_smallest(array, k)\n",
    "\n",
    "print(f\"{k}th largest element:\", kth_largest)\n",
    "print(f\"{k}th smallest element:\", kth_smallest)"
   ]
  },
  {
   "cell_type": "code",
   "execution_count": null,
   "id": "94340a39",
   "metadata": {},
   "outputs": [],
   "source": [
    "# 7. Move all the negative elements to one side of the array"
   ]
  },
  {
   "cell_type": "code",
   "execution_count": 9,
   "id": "24362360",
   "metadata": {},
   "outputs": [
    {
     "name": "stdout",
     "output_type": "stream",
     "text": [
      "Original array: [-1, 2, -3, 4, 5, 6, -7, 8, -9]\n",
      "Array after rearranging negatives: [-1, -9, -3, -7, 5, 6, 4, 8, 2]\n"
     ]
    }
   ],
   "source": [
    "def rearrange_negatives(arr):\n",
    "    left = 0\n",
    "    right = len(arr) - 1\n",
    "\n",
    "    while left <= right:\n",
    "        if arr[left] < 0 and arr[right] < 0:\n",
    "            left += 1\n",
    "        elif arr[left] >= 0 and arr[right] < 0:\n",
    "            arr[left], arr[right] = arr[right], arr[left]\n",
    "            left += 1\n",
    "            right -= 1\n",
    "        elif arr[left] >= 0 and arr[right] >= 0:\n",
    "            right -= 1\n",
    "        else:\n",
    "            left += 1\n",
    "            right -= 1\n",
    "\n",
    "    return arr\n",
    "\n",
    "# Example array\n",
    "array = [-1, 2, -3, 4, 5, 6, -7, 8, -9]\n",
    "\n",
    "print(\"Original array:\", array)\n",
    "rearranged_array = rearrange_negatives(array)\n",
    "print(\"Array after rearranging negatives:\", rearranged_array)"
   ]
  },
  {
   "cell_type": "code",
   "execution_count": null,
   "id": "c64d82a0",
   "metadata": {},
   "outputs": [],
   "source": [
    "# 8.Reverse a string using a stack data structure"
   ]
  },
  {
   "cell_type": "code",
   "execution_count": 10,
   "id": "cbda29e7",
   "metadata": {},
   "outputs": [
    {
     "name": "stdout",
     "output_type": "stream",
     "text": [
      "Original string: Hello, World!\n",
      "Reversed string: !dlroW ,olleH\n"
     ]
    }
   ],
   "source": [
    "class Stack:\n",
    "    def __init__(self):\n",
    "        self.items = []\n",
    "\n",
    "    def push(self, item):\n",
    "        self.items.append(item)\n",
    "\n",
    "    def pop(self):\n",
    "        if not self.is_empty():\n",
    "            return self.items.pop()\n",
    "\n",
    "    def is_empty(self):\n",
    "        return len(self.items) == 0\n",
    "\n",
    "def reverse_string(input_string):\n",
    "    stack = Stack()\n",
    "\n",
    "    for char in input_string:\n",
    "        stack.push(char)\n",
    "\n",
    "    reversed_string = \"\"\n",
    "    while not stack.is_empty():\n",
    "        reversed_string += stack.pop()\n",
    "\n",
    "    return reversed_string\n",
    "\n",
    "# Example string\n",
    "input_str = \"Hello, World!\"\n",
    "\n",
    "reversed_str = reverse_string(input_str)\n",
    "print(\"Original string:\", input_str)\n",
    "print(\"Reversed string:\", reversed_str)"
   ]
  },
  {
   "cell_type": "code",
   "execution_count": null,
   "id": "69e3ec15",
   "metadata": {},
   "outputs": [],
   "source": [
    "# 9.Evaluate a postfix expression using stack"
   ]
  },
  {
   "cell_type": "code",
   "execution_count": 12,
   "id": "92fa5f76",
   "metadata": {},
   "outputs": [
    {
     "name": "stdout",
     "output_type": "stream",
     "text": [
      "Postfix Expression: 53*82/+\n",
      "Result: 19.0\n"
     ]
    }
   ],
   "source": [
    "class Stack:\n",
    "    def __init__(self):\n",
    "        self.items = []\n",
    "\n",
    "    def push(self, item):\n",
    "        self.items.append(item)\n",
    "\n",
    "    def pop(self):\n",
    "        if not self.is_empty():\n",
    "            return self.items.pop()\n",
    "\n",
    "    def is_empty(self):\n",
    "        return len(self.items) == 0\n",
    "\n",
    "def evaluate_postfix(expression):\n",
    "    stack = Stack()\n",
    "\n",
    "    operators = set(['+', '-', '*', '/'])\n",
    "\n",
    "    for token in expression:\n",
    "        if token not in operators:\n",
    "            stack.push(float(token))\n",
    "        else:\n",
    "            operand2 = stack.pop()\n",
    "            operand1 = stack.pop()\n",
    "            if token == '+':\n",
    "                result = operand1 + operand2\n",
    "            elif token == '-':\n",
    "                result = operand1 - operand2\n",
    "            elif token == '*':\n",
    "                result = operand1 * operand2\n",
    "            elif token == '/':\n",
    "                result = operand1 / operand2\n",
    "            stack.push(result)\n",
    "\n",
    "    return stack.pop()\n",
    "\n",
    "# Example postfix expression\n",
    "postfix_expression = \"53*82/+\"\n",
    "\n",
    "result = evaluate_postfix(postfix_expression)\n",
    "print(\"Postfix Expression:\", postfix_expression)\n",
    "print(\"Result:\", result)"
   ]
  },
  {
   "cell_type": "code",
   "execution_count": null,
   "id": "5afec87e",
   "metadata": {},
   "outputs": [],
   "source": [
    "# 10.Implement a queue using the stack data structure"
   ]
  },
  {
   "cell_type": "code",
   "execution_count": 13,
   "id": "ca7e5322",
   "metadata": {},
   "outputs": [
    {
     "name": "stdout",
     "output_type": "stream",
     "text": [
      "Dequeued item: 1\n",
      "Dequeued item: 2\n",
      "Dequeued item: 3\n",
      "Is the queue empty? False\n"
     ]
    }
   ],
   "source": [
    "class QueueUsingStacks:\n",
    "    def __init__(self):\n",
    "        self.stack1 = []\n",
    "        self.stack2 = []\n",
    "\n",
    "    def enqueue(self, item):\n",
    "        self.stack1.append(item)\n",
    "\n",
    "    def dequeue(self):\n",
    "        if not self.stack2:\n",
    "            if not self.stack1:\n",
    "                return None\n",
    "            while self.stack1:\n",
    "                self.stack2.append(self.stack1.pop())\n",
    "        return self.stack2.pop()\n",
    "\n",
    "    def is_empty(self):\n",
    "        return len(self.stack1) == 0 and len(self.stack2) == 0\n",
    "\n",
    "# Example usage\n",
    "queue = QueueUsingStacks()\n",
    "\n",
    "queue.enqueue(1)\n",
    "queue.enqueue(2)\n",
    "queue.enqueue(3)\n",
    "\n",
    "print(\"Dequeued item:\", queue.dequeue())\n",
    "print(\"Dequeued item:\", queue.dequeue())\n",
    "\n",
    "queue.enqueue(4)\n",
    "\n",
    "print(\"Dequeued item:\", queue.dequeue())\n",
    "print(\"Is the queue empty?\", queue.is_empty())"
   ]
  },
  {
   "cell_type": "code",
   "execution_count": null,
   "id": "35f6d9a4",
   "metadata": {},
   "outputs": [],
   "source": []
  }
 ],
 "metadata": {
  "kernelspec": {
   "display_name": "Python 3 (ipykernel)",
   "language": "python",
   "name": "python3"
  },
  "language_info": {
   "codemirror_mode": {
    "name": "ipython",
    "version": 3
   },
   "file_extension": ".py",
   "mimetype": "text/x-python",
   "name": "python",
   "nbconvert_exporter": "python",
   "pygments_lexer": "ipython3",
   "version": "3.11.3"
  }
 },
 "nbformat": 4,
 "nbformat_minor": 5
}
